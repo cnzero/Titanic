{
 "cells": [
  {
   "cell_type": "markdown",
   "metadata": {},
   "source": [
    "### Train Data\n",
    "#### Necessary packages"
   ]
  },
  {
   "cell_type": "code",
   "execution_count": 2,
   "metadata": {
    "collapsed": false
   },
   "outputs": [],
   "source": [
    "import csv as csv\n",
    "import numpy as np"
   ]
  },
  {
   "cell_type": "markdown",
   "metadata": {},
   "source": [
    "#### Read data and have a glance at it"
   ]
  },
  {
   "cell_type": "code",
   "execution_count": 3,
   "metadata": {
    "collapsed": false
   },
   "outputs": [
    {
     "name": "stdout",
     "output_type": "stream",
     "text": [
      "['PassengerId', 'Survived', 'Pclass', 'Name', 'Sex', 'Age', 'SibSp', 'Parch', 'Ticket', 'Fare', 'Cabin', 'Embarked']\n"
     ]
    }
   ],
   "source": [
    "data = []\n",
    "h_train = csv.reader(open('SourceData/train.csv', 'rb'))\n",
    "header = h_train.next() # \n",
    "print header"
   ]
  },
  {
   "cell_type": "markdown",
   "metadata": {},
   "source": [
    "#### Explanation on header columns -- all values are string type.\n",
    "__ 0 PassengerId __\n",
    "[1;2;3; ... 891]891x1\n",
    "\n",
    "__1 Survived __\n",
    "0, No\n",
    "1, Yes\n",
    "\n",
    "__2 Pclass__\n",
    "1, 1st\n",
    "2, 2nd\n",
    "3, 3rd\n",
    "\n",
    "__3 Name__\n",
    "\n",
    "__4 Sex__\n",
    "male\n",
    "female\n",
    "\n",
    "__5 Age__\n",
    "\n",
    "__6 SibSp__\n",
    "Whether there is Siblings/Spouses Aboard\n",
    "1, Yes\n",
    "0, No\n",
    "\n",
    "__7 Parch__\n",
    "Whether Parent/Children Aboard\n",
    "1, Yes\n",
    "0, No\n",
    "\n",
    "__8 Ticket__\n",
    "Ticket number\n",
    "\n",
    "__9 Fare__\n",
    "Passenger Fare, price for the ticket\n",
    "\n",
    "__10 Cabin__\n",
    "Room number\n",
    "\n",
    "__11 Embarked__\n",
    "Port of Embarkation\n",
    "C, Cherbourg\n",
    "Q, Queenstown\n",
    "S, Southampton"
   ]
  },
  {
   "cell_type": "code",
   "execution_count": 4,
   "metadata": {
    "collapsed": true,
    "slideshow": {
     "slide_type": "-"
    }
   },
   "outputs": [],
   "source": [
    "for row in h_train:\n",
    "    data.append(row)\n",
    "\n",
    "data = np.array(data)\n",
    "# print data[0:5,0::]"
   ]
  },
  {
   "cell_type": "markdown",
   "metadata": {},
   "source": [
    "_Notice that all elements in the __data__ are strings._\n"
   ]
  },
  {
   "cell_type": "markdown",
   "metadata": {},
   "source": [
    "#### data slicing and a glance at it."
   ]
  },
  {
   "cell_type": "code",
   "execution_count": 5,
   "metadata": {
    "collapsed": false
   },
   "outputs": [
    {
     "name": "stdout",
     "output_type": "stream",
     "text": [
      "['1' '0' '3' 'Braund, Mr. Owen Harris' 'male' '22' '1' '0' 'A/5 21171'\n",
      " '7.25' '' 'S']\n",
      "['891' '0' '3' 'Dooley, Mr. Patrick' 'male' '32' '0' '0' '370376' '7.75' ''\n",
      " 'Q']\n",
      "Braund, Mr. Owen Harris\n"
     ]
    }
   ],
   "source": [
    "print data[0]   # the first row\n",
    "print data[-1]  # the last row\n",
    "print data[0, 3]#  1st row, 4th column\n",
    "# data[0::, 4] # all rows, 4th column"
   ]
  },
  {
   "cell_type": "markdown",
   "metadata": {},
   "source": [
    "#### Conversion of data type, string -> float"
   ]
  },
  {
   "cell_type": "code",
   "execution_count": 6,
   "metadata": {
    "collapsed": false
   },
   "outputs": [
    {
     "name": "stdout",
     "output_type": "stream",
     "text": [
      "<type 'numpy.string_'>\n",
      "3\n",
      "3.0\n"
     ]
    }
   ],
   "source": [
    "print type(data[0, 2])\n",
    "print data[0, 2]\n",
    "print data[0, 2].astype(np.float)"
   ]
  },
  {
   "cell_type": "code",
   "execution_count": 7,
   "metadata": {
    "collapsed": false
   },
   "outputs": [
    {
     "name": "stdout",
     "output_type": "stream",
     "text": [
      "891\n",
      "342.0\n",
      "0.383838383838\n"
     ]
    }
   ],
   "source": [
    "number_passengers = np.size(data[0::,1].astype(np.float))\n",
    "print number_passengers\n",
    "number_survived = np.sum(data[0::, 1].astype(np.float))\n",
    "print number_survived\n",
    "proportion_survivors = number_survived / number_passengers\n",
    "print proportion_survivors"
   ]
  },
  {
   "cell_type": "markdown",
   "metadata": {},
   "source": [
    "#### Columns specification [Woman&Man]"
   ]
  },
  {
   "cell_type": "code",
   "execution_count": 8,
   "metadata": {
    "collapsed": false
   },
   "outputs": [
    {
     "name": "stdout",
     "output_type": "stream",
     "text": [
      "[ True False False False  True  True  True  True False False]\n",
      "[ 0.  0.  0.  0.  0.  0.  0.  0.  1.  0.]\n",
      "Man\n",
      "Proportion of men survived is:\n",
      "109.0 / 577\n",
      "= 0.188908145581\n",
      "Women\n",
      "Proportion of women survived is:\n",
      "233.0 / 314\n",
      "= 0.742038216561\n"
     ]
    }
   ],
   "source": [
    "# Gender\n",
    "women_only_stats = data[0::, 4]=='female'\n",
    "# [False True ...]1x891\n",
    "men_only_stats = data[0::, 4]=='male'\n",
    "# [True False ...]1x891\n",
    "print men_only_stats[0:10]\n",
    "\n",
    "\n",
    "# Onboard or not.\n",
    "# Logic Usage\n",
    "men_onboard = data[men_only_stats, 1].astype(np.float)\n",
    "print men_onboard[0:10]\n",
    "women_onboard = data[women_only_stats, 1].astype(np.float)\n",
    "\n",
    "proportion_men_onboard = np.sum(men_onboard) / np.size(men_onboard)\n",
    "print 'Man'\n",
    "print 'Proportion of men survived is:'\n",
    "print np.sum(men_onboard), '/', np.size(men_onboard)\n",
    "print '=', proportion_men_onboard\n",
    "\n",
    "proportion_women_onboard = np.sum(women_onboard) / np.size(women_onboard)\n",
    "print 'Women'\n",
    "print 'Proportion of women survived is:'\n",
    "print np.sum(women_onboard), '/', np.size(women_onboard)\n",
    "print '=', proportion_women_onboard"
   ]
  },
  {
   "cell_type": "markdown",
   "metadata": {},
   "source": [
    "### Test Data"
   ]
  },
  {
   "cell_type": "code",
   "execution_count": 25,
   "metadata": {
    "collapsed": false
   },
   "outputs": [
    {
     "name": "stdout",
     "output_type": "stream",
     "text": [
      "['PassengerId', 'Pclass', 'Name', 'Sex', 'Age', 'SibSp', 'Parch', 'Ticket', 'Fare', 'Cabin', 'Embarked']\n"
     ]
    }
   ],
   "source": [
    "test_file = open('SourceData/test.csv', 'rb')\n",
    "test_file_object = csv.reader(test_file)\n",
    "header = test_file_object.next()\n",
    "print header_test"
   ]
  },
  {
   "cell_type": "markdown",
   "metadata": {},
   "source": [
    "#### Prediction"
   ]
  },
  {
   "cell_type": "code",
   "execution_count": 26,
   "metadata": {
    "collapsed": false
   },
   "outputs": [],
   "source": [
    "prediction_file = open('genderbasedmodel.csv', 'wb')\n",
    "prediction_file_object = csv.writer(prediction_file)\n",
    "\n",
    "prediction_file_object.writerow(['PassengerId', 'Survived'])\n",
    "for row in test_file_object:\n",
    "    if row[3] == 'female':\n",
    "        prediction_file_object.writerow([row[0], '1'])\n",
    "    else:\n",
    "        prediction_file_object.writerow([row[0], '0'])\n",
    "# test_file.close()\n",
    "# prediction_file.close()\n",
    "\n",
    "# show prediction_file content\n",
    "p_data = []\n",
    "h_prediction = csv.reader(open('genderbasedmodel.csv', 'rb'))\n",
    "for row in h_prediction:\n",
    "    p_data.append(row)\n",
    "p_data = np.array(p_data)"
   ]
  }
 ],
 "metadata": {
  "anaconda-cloud": {},
  "kernelspec": {
   "display_name": "Python [default]",
   "language": "python",
   "name": "python2"
  },
  "language_info": {
   "codemirror_mode": {
    "name": "ipython",
    "version": 2
   },
   "file_extension": ".py",
   "mimetype": "text/x-python",
   "name": "python",
   "nbconvert_exporter": "python",
   "pygments_lexer": "ipython2",
   "version": "2.7.12"
  },
  "nbpresent": {
   "slides": {},
   "themes": {
    "default": "7757d8e6-8e90-45e6-8bcd-e973ad9279ec",
    "theme": {
     "7757d8e6-8e90-45e6-8bcd-e973ad9279ec": {
      "id": "7757d8e6-8e90-45e6-8bcd-e973ad9279ec",
      "palette": {
       "19cc588f-0593-49c9-9f4b-e4d7cc113b1c": {
        "id": "19cc588f-0593-49c9-9f4b-e4d7cc113b1c",
        "rgb": [
         252,
         252,
         252
        ]
       },
       "31af15d2-7e15-44c5-ab5e-e04b16a89eff": {
        "id": "31af15d2-7e15-44c5-ab5e-e04b16a89eff",
        "rgb": [
         68,
         68,
         68
        ]
       },
       "50f92c45-a630-455b-aec3-788680ec7410": {
        "id": "50f92c45-a630-455b-aec3-788680ec7410",
        "rgb": [
         155,
         177,
         192
        ]
       },
       "c5cc3653-2ee1-402a-aba2-7caae1da4f6c": {
        "id": "c5cc3653-2ee1-402a-aba2-7caae1da4f6c",
        "rgb": [
         43,
         126,
         184
        ]
       },
       "efa7f048-9acb-414c-8b04-a26811511a21": {
        "id": "efa7f048-9acb-414c-8b04-a26811511a21",
        "rgb": [
         25.118061674008803,
         73.60176211453744,
         107.4819383259912
        ]
       }
      },
      "rules": {
       "blockquote": {
        "color": "50f92c45-a630-455b-aec3-788680ec7410"
       },
       "code": {
        "font-family": "Anonymous Pro"
       },
       "h1": {
        "color": "c5cc3653-2ee1-402a-aba2-7caae1da4f6c",
        "font-family": "Lato",
        "font-size": 8
       },
       "h2": {
        "color": "c5cc3653-2ee1-402a-aba2-7caae1da4f6c",
        "font-family": "Lato",
        "font-size": 6
       },
       "h3": {
        "color": "50f92c45-a630-455b-aec3-788680ec7410",
        "font-family": "Lato",
        "font-size": 5.5
       },
       "h4": {
        "color": "c5cc3653-2ee1-402a-aba2-7caae1da4f6c",
        "font-family": "Lato",
        "font-size": 5
       },
       "h5": {
        "font-family": "Lato"
       },
       "h6": {
        "font-family": "Lato"
       },
       "h7": {
        "font-family": "Lato"
       },
       "pre": {
        "font-family": "Anonymous Pro",
        "font-size": 4
       }
      },
      "text-base": {
       "font-family": "Merriweather",
       "font-size": 4
      }
     }
    }
   }
  }
 },
 "nbformat": 4,
 "nbformat_minor": 1
}
